{
  "cells": [
    {
      "cell_type": "markdown",
      "metadata": {
        "id": "view-in-github",
        "colab_type": "text"
      },
      "source": [
        "<a href=\"https://colab.research.google.com/github/TrungTruc2006/python/blob/main/Ch%C3%A0o_m%E1%BB%ABng_b%E1%BA%A1n_%C4%91%E1%BA%BFn_v%E1%BB%9Bi_Colab.ipynb\" target=\"_parent\"><img src=\"https://colab.research.google.com/assets/colab-badge.svg\" alt=\"Open In Colab\"/></a>"
      ]
    },
    {
      "cell_type": "code",
      "source": [
        "def calculate_bmi(weight, height):\n",
        "  bmi=weight/(height**2)\n",
        "  return bmi\n",
        "\n",
        "def bmi_category(bmi):\n",
        "  if bmi < 18.5:\n",
        "    return \"falls within the underweight range\"\n",
        "  elif bmi < 25:\n",
        "    return \"falls within the healthy weight range\"\n",
        "  elif bmi < 30:\n",
        "    return \"falls within the overweight range\"\n",
        "  else:\n",
        "    return \"falls within the obesity range\"\n",
        "\n",
        "weight=float(input(\"Enter your weight in kg: \"))\n",
        "height=float(input(\"Enter your height in m: \"))\n",
        "\n",
        "if weight <= 0 or height <= 0:\n",
        "  print(\"Invalid input. Weight and height must be positive numbers.\")\n",
        "else:\n",
        "  bmi=calculate_bmi(weight, height)\n",
        "  category=bmi_category(bmi)\n",
        "  print(f\"Your BMI is {bmi:.2f}, which is {category}.\")"
      ],
      "metadata": {
        "id": "pPIkguJujcK1",
        "outputId": "777f3cba-7415-4ed7-f09b-0ba3032da871",
        "colab": {
          "base_uri": "https://localhost:8080/"
        }
      },
      "execution_count": 6,
      "outputs": [
        {
          "output_type": "stream",
          "name": "stdout",
          "text": [
            "Enter your weight in kg: 70\n",
            "Enter your height in m: 0\n",
            "Invalid input. Weight and height must be positive numbers.\n"
          ]
        }
      ]
    },
    {
      "cell_type": "markdown",
      "source": [],
      "metadata": {
        "id": "h6KFtEJxkNMc"
      }
    },
    {
      "cell_type": "code",
      "source": [
        "def convert_temperature():\n",
        "    unit = input(\"Do you want to convert from Celsius or Fahrenheit? \").strip().lower()\n",
        "    temp = float(input(\"Enter the temperature: \"))\n",
        "\n",
        "    if unit == \"celsius\":\n",
        "        fahrenheit = (temp * 9/5) + 32\n",
        "        print(f\"The corresponding Fahrenheit temperature is {fahrenheit:.1f}.\")\n",
        "    elif unit == \"fahrenheit\":\n",
        "        celsius = (temp - 32) * 5/9\n",
        "        print(f\"The corresponding Celsius temperature is {celsius:.1f}.\")\n",
        "    else:\n",
        "        print(\"Invalid input. Please enter 'Celsius' or 'Fahrenheit'.\")\n",
        "\n",
        "# run program\n",
        "convert_temperature()\n"
      ],
      "metadata": {
        "id": "_cEKegynr8BE",
        "outputId": "fe319946-252e-47ad-a80a-6d1aadd62405",
        "colab": {
          "base_uri": "https://localhost:8080/"
        }
      },
      "execution_count": 17,
      "outputs": [
        {
          "output_type": "stream",
          "name": "stdout",
          "text": [
            "Do you want to convert from Celsius or Fahrenheit? Celsius\n",
            "Enter the temperature: 25\n",
            "The corresponding Fahrenheit temperature is 77.0.\n"
          ]
        }
      ]
    },
    {
      "cell_type": "markdown",
      "source": [],
      "metadata": {
        "id": "tdMZPnvlsU6y"
      }
    },
    {
      "cell_type": "code",
      "source": [
        "def calculator(num1, num2, operator):\n",
        "    if operator == '+':\n",
        "        return num1 + num2\n",
        "    elif operator == '-':\n",
        "        return num1 - num2\n",
        "    elif operator == '*':\n",
        "        return num1 * num2\n",
        "    elif operator == '/':\n",
        "        return num1 / num2\n",
        "    else:\n",
        "        return \"Invalid operator\"\n",
        "calculator(6, 8, '+')"
      ],
      "metadata": {
        "id": "pY6TrIWksbuM",
        "outputId": "cc5e3e0d-48e9-4cd7-c5d6-c29c6c11a034",
        "colab": {
          "base_uri": "https://localhost:8080/"
        }
      },
      "execution_count": 22,
      "outputs": [
        {
          "output_type": "execute_result",
          "data": {
            "text/plain": [
              "14"
            ]
          },
          "metadata": {},
          "execution_count": 22
        }
      ]
    },
    {
      "cell_type": "code",
      "source": [
        "import random\n",
        "\n",
        "def coin_toss():\n",
        "    try:\n",
        "        prob_head = float(input(\"Enter the probability of heads (between 0 and 1): \"))\n",
        "        if not 0 <= prob_head <= 1:\n",
        "            print(\"Probability must be between 0 and 1.\")\n",
        "            return\n",
        "\n",
        "        toss = random.random()  # Generates a float between 0 and 1\n",
        "        print(\"toss from random : \", toss)\n",
        "        if toss < prob_head:\n",
        "            result = \"heads\"\n",
        "        else:\n",
        "            result = \"tails\"\n",
        "\n",
        "        print(f\"The result of the coin toss is: {result}\")\n",
        "        return result\n",
        "\n",
        "    except ValueError:\n",
        "        print(\"Invalid input. Please enter a number between 0 and 1.\")\n",
        "\n",
        "coin_toss()"
      ],
      "metadata": {
        "id": "qaL9842y1Sl0",
        "outputId": "958b9c91-fafd-4df5-d051-3019b271d8e0",
        "colab": {
          "base_uri": "https://localhost:8080/",
          "height": 87
        }
      },
      "execution_count": 23,
      "outputs": [
        {
          "output_type": "stream",
          "name": "stdout",
          "text": [
            "Enter the probability of heads (between 0 and 1): 0.3\n",
            "toss from random :  0.9078399276228725\n",
            "The result of the coin toss is: tails\n"
          ]
        },
        {
          "output_type": "execute_result",
          "data": {
            "text/plain": [
              "'tails'"
            ],
            "application/vnd.google.colaboratory.intrinsic+json": {
              "type": "string"
            }
          },
          "metadata": {},
          "execution_count": 23
        }
      ]
    }
  ],
  "metadata": {
    "colab": {
      "name": "Chào mừng bạn đến với Colab",
      "provenance": [],
      "include_colab_link": true
    },
    "kernelspec": {
      "display_name": "Python 3",
      "name": "python3"
    }
  },
  "nbformat": 4,
  "nbformat_minor": 0
}
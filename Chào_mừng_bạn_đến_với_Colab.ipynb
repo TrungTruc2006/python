{
  "cells": [
    {
      "cell_type": "markdown",
      "metadata": {
        "id": "view-in-github",
        "colab_type": "text"
      },
      "source": [
        "<a href=\"https://colab.research.google.com/github/TrungTruc2006/python/blob/main/Ch%C3%A0o_m%E1%BB%ABng_b%E1%BA%A1n_%C4%91%E1%BA%BFn_v%E1%BB%9Bi_Colab.ipynb\" target=\"_parent\"><img src=\"https://colab.research.google.com/assets/colab-badge.svg\" alt=\"Open In Colab\"/></a>"
      ]
    },
    {
      "cell_type": "code",
      "source": [
        "def calculate_statistics():\n",
        "    while True:\n",
        "        try:\n",
        "            # Yêu cầu người dùng nhập 3 số khác nhau\n",
        "            nums = input(\"Enter 3 different numbers separated by spaces: \").split()\n",
        "            nums = [float(num) for num in nums]\n",
        "\n",
        "            # Kiểm tra số lượng và sự khác nhau của các số\n",
        "            if len(nums) != 3 or len(set(nums)) != 3:\n",
        "                print(\"Please enter **3 different** numbers.\")\n",
        "                continue\n",
        "\n",
        "            average = sum(nums) / 3\n",
        "            median = sorted(nums)[1]\n",
        "            range_val = max(nums) - min(nums)\n",
        "\n",
        "            print(f\"average: {average}\")\n",
        "            print(f\"median: {median}\")\n",
        "            print(f\"range: {range_val}\")\n",
        "            break\n",
        "\n",
        "        except ValueError:\n",
        "            print(\"Invalid input. Please enter numeric values.\")\n",
        "\n",
        "# Gọi hàm\n",
        "calculate_statistics()"
      ],
      "metadata": {
        "id": "sVJAlk32qFsl",
        "outputId": "6ea1e7ba-2e6b-4c70-e82b-60db94f71971",
        "colab": {
          "base_uri": "https://localhost:8080/"
        }
      },
      "execution_count": 1,
      "outputs": [
        {
          "output_type": "stream",
          "name": "stdout",
          "text": [
            "Enter 3 different numbers separated by spaces: 10 20 30\n",
            "average: 20.0\n",
            "median: 20.0\n",
            "range: 20.0\n"
          ]
        }
      ]
    }
  ],
  "metadata": {
    "colab": {
      "name": "Chào mừng bạn đến với Colab",
      "toc_visible": true,
      "provenance": [],
      "include_colab_link": true
    },
    "kernelspec": {
      "display_name": "Python 3",
      "name": "python3"
    }
  },
  "nbformat": 4,
  "nbformat_minor": 0
}